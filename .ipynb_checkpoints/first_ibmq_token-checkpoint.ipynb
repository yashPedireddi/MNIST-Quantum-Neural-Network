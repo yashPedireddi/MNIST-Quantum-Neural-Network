{
 "cells": [
  {
   "cell_type": "code",
   "execution_count": 1,
   "id": "0f239026",
   "metadata": {},
   "outputs": [],
   "source": [
    "from qiskit import IBMQ"
   ]
  },
  {
   "cell_type": "code",
   "execution_count": 2,
   "id": "93d97ab5",
   "metadata": {},
   "outputs": [
    {
     "name": "stderr",
     "output_type": "stream",
     "text": [
      "C:\\Users\\pedir\\AppData\\Local\\Temp\\ipykernel_25828\\2150685345.py:1: DeprecationWarning: The package qiskit.providers.ibmq is being deprecated. Please see https://ibm.biz/provider_migration_guide to get instructions on how to migrate to qiskit-ibm-provider (https://github.com/Qiskit/qiskit-ibm-provider) and qiskit-ibm-runtime (https://github.com/Qiskit/qiskit-ibm-runtime).\n",
      "  IBMQ.save_account(\"7fc3e7639f3d70101eb9f8d503b09d8501461c4de668545353f81c5ed227d8f3d6f0aa518915879f0a61349a8fbc1da486ef7bd8995f6236b0a32fea898848b2\")\n",
      "C:\\Users\\pedir\\AppData\\Local\\Temp\\ipykernel_25828\\2150685345.py:1: DeprecationWarning: The qiskit.IBMQ entrypoint and the qiskit-ibmq-provider package (accessible from 'qiskit.providers.ibmq`) are deprecated and will be removed in a future release. Instead you should use the qiskit-ibm-provider package which is accessible from 'qiskit_ibm_provider'. You can install it with 'pip install qiskit_ibm_provider'. Just replace 'qiskit.IBMQ' with 'qiskit_ibm_provider.IBMProvider'\n",
      "  IBMQ.save_account(\"7fc3e7639f3d70101eb9f8d503b09d8501461c4de668545353f81c5ed227d8f3d6f0aa518915879f0a61349a8fbc1da486ef7bd8995f6236b0a32fea898848b2\")\n"
     ]
    }
   ],
   "source": [
    "IBMQ.save_account(\"7fc3e7639f3d70101eb9f8d503b09d8501461c4de668545353f81c5ed227d8f3d6f0aa518915879f0a61349a8fbc1da486ef7bd8995f6236b0a32fea898848b2\")"
   ]
  },
  {
   "cell_type": "code",
   "execution_count": null,
   "id": "509e1d37",
   "metadata": {},
   "outputs": [],
   "source": []
  }
 ],
 "metadata": {
  "kernelspec": {
   "display_name": "Python 3 (ipykernel)",
   "language": "python",
   "name": "python3"
  },
  "language_info": {
   "codemirror_mode": {
    "name": "ipython",
    "version": 3
   },
   "file_extension": ".py",
   "mimetype": "text/x-python",
   "name": "python",
   "nbconvert_exporter": "python",
   "pygments_lexer": "ipython3",
   "version": "3.10.6"
  }
 },
 "nbformat": 4,
 "nbformat_minor": 5
}
