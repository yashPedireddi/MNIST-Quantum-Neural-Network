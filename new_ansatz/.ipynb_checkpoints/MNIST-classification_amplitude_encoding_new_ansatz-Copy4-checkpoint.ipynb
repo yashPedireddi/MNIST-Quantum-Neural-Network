{
 "cells": [
  {
   "cell_type": "code",
   "execution_count": 1,
   "metadata": {},
   "outputs": [],
   "source": [
    "import pennylane as qml\n",
    "import tensorflow as tf\n",
    "import sklearn.datasets\n",
    "from sklearn.datasets import fetch_openml\n",
    "\n",
    "import numpy as np\n",
    "\n",
    "from matplotlib import pyplot as plt\n",
    "\n",
    "tf.keras.backend.set_floatx('float64')"
   ]
  },
  {
   "cell_type": "markdown",
   "metadata": {},
   "source": [
    "## Load and reduce the data\n",
    "\n",
    "Load the MNIST data and check number of training and test examples"
   ]
  },
  {
   "cell_type": "code",
   "execution_count": 2,
   "metadata": {},
   "outputs": [
    {
     "name": "stdout",
     "output_type": "stream",
     "text": [
      "Number of original training examples: 60000\n",
      "Number of original test examples: 10000\n"
     ]
    }
   ],
   "source": [
    "(x_train, y_train), (x_test, y_test) = tf.keras.datasets.mnist.load_data()\n",
    "\n",
    "# Rescale the images from [0,255] to the [0.0,1.0] range.\n",
    "x_train, x_test = x_train[..., np.newaxis]/255.0, x_test[..., np.newaxis]/255.0  # add colour dimension\n",
    "\n",
    "print(\"Number of original training examples:\", len(x_train))\n",
    "print(\"Number of original test examples:\", len(x_test))"
   ]
  },
  {
   "cell_type": "code",
   "execution_count": null,
   "metadata": {},
   "outputs": [],
   "source": []
  },
  {
   "cell_type": "markdown",
   "metadata": {},
   "source": [
    "Create a function to filter out only 0 and 1"
   ]
  },
  {
   "cell_type": "code",
   "execution_count": 3,
   "metadata": {},
   "outputs": [],
   "source": [
    "def filter_01(x, y):\n",
    "    keep = (y == 3) | (y == 6)\n",
    "    x, y = x[keep], y[keep]\n",
    "    y = y == 3\n",
    "    return x,y"
   ]
  },
  {
   "cell_type": "code",
   "execution_count": 4,
   "metadata": {},
   "outputs": [
    {
     "name": "stdout",
     "output_type": "stream",
     "text": [
      "Number of filtered training examples: 12049\n",
      "Number of filtered test examples: 1968\n"
     ]
    }
   ],
   "source": [
    "x_train, y_train = filter_01(x_train, y_train)\n",
    "x_test, y_test = filter_01(x_test, y_test)\n",
    "\n",
    "print(\"Number of filtered training examples:\", len(x_train))\n",
    "print(\"Number of filtered test examples:\", len(x_test))"
   ]
  },
  {
   "cell_type": "code",
   "execution_count": null,
   "metadata": {},
   "outputs": [],
   "source": []
  },
  {
   "cell_type": "markdown",
   "metadata": {},
   "source": [
    "Plot the original images"
   ]
  },
  {
   "cell_type": "code",
   "execution_count": 5,
   "metadata": {},
   "outputs": [
    {
     "data": {
      "image/png": "[encoded data removed]",
      "text/plain": [
       "<Figure size 640x480 with 1 Axes>"
      ]
     },
     "metadata": {},
     "output_type": "display_data"
    }
   ],
   "source": [
    "plt.imshow(x_train[0, :, :, 0], cmap='Greys')\n",
    "ax = plt.gca()\n",
    "ax.set_xticks([])\n",
    "ax.set_yticks([])\n",
    "plt.title(\"28x28 image of a 3\", fontsize=20)\n",
    "# save to file as pdf\n",
    "plt.savefig('28x28_MNIST_3.pdf', bbox_inches='tight', pad_inches=0)\n",
    "plt.show()"
   ]
  },
  {
   "cell_type": "markdown",
   "metadata": {},
   "source": [
    "Reduce images to 9x9"
   ]
  },
  {
   "cell_type": "code",
   "execution_count": 6,
   "metadata": {},
   "outputs": [],
   "source": [
    "x_train_small = tf.image.resize(x_train, (9,9)).numpy()\n",
    "x_test_small = tf.image.resize(x_test, (9,9)).numpy()"
   ]
  },
  {
   "cell_type": "code",
   "execution_count": 7,
   "metadata": {},
   "outputs": [
    {
     "data": {
      "image/png": "[encoded data removed]",
      "text/plain": [
       "<Figure size 640x480 with 1 Axes>"
      ]
     },
     "metadata": {},
     "output_type": "display_data"
    }
   ],
   "source": [
    "plt.imshow(x_train_small[0,:,:,0], vmin=0, vmax=1, cmap='Greys')\n",
    "ax = plt.gca()\n",
    "ax.set_xticks([])\n",
    "ax.set_yticks([])\n",
    "plt.title(\"9x9 image of a 3\", fontsize=20)\n",
    "# save to file as pdf\n",
    "plt.savefig('9x9_MNIST_3.pdf', bbox_inches='tight', pad_inches=0)\n",
    "plt.show()"
   ]
  },
  {
   "cell_type": "markdown",
   "metadata": {},
   "source": [
    "Further reduce images to 9x1"
   ]
  },
  {
   "cell_type": "code",
   "execution_count": 8,
   "metadata": {},
   "outputs": [
    {
     "data": {
      "image/png": "[encoded data removed]",
      "text/plain": [
       "<Figure size 640x480 with 1 Axes>"
      ]
     },
     "metadata": {},
     "output_type": "display_data"
    }
   ],
   "source": [
    "x_train_small = x_train_small[:,4,:,:].reshape((-1,9))  # take only central slices\n",
    "x_test_small = x_test_small[:,4,:,:].reshape((-1,9))  # take only central slices\n",
    "\n",
    "plt.imshow(x_train_small[0,:].reshape((1,-1)), vmin=0, vmax=1, cmap='Greys')\n",
    "ax = plt.gca()\n",
    "ax.set_xticks([])\n",
    "ax.set_yticks([])\n",
    "plt.title(\"9x1 image of a 0\", fontsize=20)\n",
    "# save to file as pdf\n",
    "plt.savefig('9x1_MNIST_0.pdf', bbox_inches='tight', pad_inches=0)\n",
    "plt.show()\n"
   ]
  },
  {
   "cell_type": "code",
   "execution_count": 9,
   "metadata": {},
   "outputs": [
    {
     "data": {
      "text/plain": [
       "(12049, 9)"
      ]
     },
     "execution_count": 9,
     "metadata": {},
     "output_type": "execute_result"
    }
   ],
   "source": [
    "x_train_small.shape"
   ]
  },
  {
   "cell_type": "code",
   "execution_count": null,
   "metadata": {},
   "outputs": [],
   "source": []
  },
  {
   "cell_type": "code",
   "execution_count": null,
   "metadata": {},
   "outputs": [],
   "source": []
  },
  {
   "cell_type": "code",
   "execution_count": 10,
   "metadata": {},
   "outputs": [],
   "source": [
    "flattened_images_train = x_train.reshape(x_train.shape[0], -1)"
   ]
  },
  {
   "cell_type": "code",
   "execution_count": 11,
   "metadata": {},
   "outputs": [],
   "source": [
    "flattened_images_test = x_test.reshape(x_test.shape[0], -1)"
   ]
  },
  {
   "cell_type": "code",
   "execution_count": 12,
   "metadata": {},
   "outputs": [
    {
     "data": {
      "text/plain": [
       "(12049, 784)"
      ]
     },
     "execution_count": 12,
     "metadata": {},
     "output_type": "execute_result"
    }
   ],
   "source": [
    "flattened_images_train.shape"
   ]
  },
  {
   "cell_type": "code",
   "execution_count": 13,
   "metadata": {},
   "outputs": [
    {
     "data": {
      "text/plain": [
       "(784,)"
      ]
     },
     "execution_count": 13,
     "metadata": {},
     "output_type": "execute_result"
    }
   ],
   "source": [
    "flattened_images_train[0,:].shape"
   ]
  },
  {
   "cell_type": "markdown",
   "metadata": {},
   "source": [
    "## Set up the Quantum Neural Network\n",
    "\n",
    "Create quantum circuit using pennylane qnode, then conver this to a Keras layer to make a Keras model"
   ]
  },
  {
   "cell_type": "code",
   "execution_count": 14,
   "metadata": {},
   "outputs": [],
   "source": [
    "# n_qubits = 10\n",
    "# n_layers = 1\n",
    "# dev = qml.device(\"default.qubit\", wires=n_qubits)\n",
    "\n",
    "# @qml.qnode(dev, diff_method=\"adjoint\")\n",
    "# def qnode(inputs, weights):\n",
    "\n",
    "# #     for ii in range(n_qubits):\n",
    "# #         qml.RY(np.pi * inputs[ii], wires=ii)\n",
    "    \n",
    "#     qml.AmplitudeEmbedding(features=inputs, wires=range(10),normalize=True,pad_with=0)\n",
    "\n",
    "#     for jj in range(n_layers):\n",
    "#         for ii in range(n_qubits-1):\n",
    "#             qml.RZ(weights[jj,2*ii,0], wires=0)\n",
    "#             qml.RY(weights[jj,2*ii,1], wires=0)\n",
    "#             qml.RZ(weights[jj,2*ii,2], wires=0)\n",
    "\n",
    "#             qml.RZ(weights[jj,2*ii+1,0], wires=ii+1)\n",
    "#             qml.RY(weights[jj,2*ii+1,1], wires=ii+1)\n",
    "#             qml.RZ(weights[jj,2*ii+1,2], wires=ii+1)\n",
    "\n",
    "#             #qml.U3(*list(weights[jj,2*ii,:]), wires=0)\n",
    "#             #qml.U3(*list(weights[jj,2*ii+1,:]), wires=ii+1)\n",
    "#             qml.CNOT(wires=[ii+1,0])\n",
    "            \n",
    "#         qml.RZ(weights[jj,2*(n_qubits-1),0], wires=0)\n",
    "#         qml.RY(weights[jj,2*(n_qubits-1),1], wires=0)\n",
    "#         qml.RZ(weights[jj,2*(n_qubits-1),2], wires=0)\n",
    "\n",
    "#     return qml.expval(qml.PauliZ(0))\n",
    "\n",
    "# weight_shapes = {\"weights\": (n_layers, 2*(n_qubits-1)+1, 3) }\n",
    "\n",
    "\n",
    "# qlayer = qml.qnn.KerasLayer(qnode, weight_shapes, output_dim=1, name=\"quantumLayer\")\n",
    "# inputs = tf.keras.Input(shape=(784,), name=\"inputs\")\n",
    "# outputs = qlayer(inputs)\n",
    "# model = tf.keras.Model(inputs=inputs, outputs=outputs, name=\"QNN\")\n",
    "\n",
    "\n",
    "# print(model.summary())"
   ]
  },
  {
   "cell_type": "markdown",
   "metadata": {},
   "source": [
    "### New Ansatz Implementation"
   ]
  },
  {
   "cell_type": "code",
   "execution_count": 22,
   "metadata": {},
   "outputs": [
    {
     "name": "stdout",
     "output_type": "stream",
     "text": [
      "Model: \"QNN\"\n",
      "_________________________________________________________________\n",
      " Layer (type)                Output Shape              Param #   \n",
      "=================================================================\n",
      " inputs (InputLayer)         [(None, 784)]             0         \n",
      "                                                                 \n",
      " quantumLayer (KerasLayer)   (None, 1)                 0 (unused)\n",
      "                                                                 \n",
      "=================================================================\n",
      "Total params: 0\n",
      "Trainable params: 0\n",
      "Non-trainable params: 0\n",
      "_________________________________________________________________\n",
      "None\n"
     ]
    }
   ],
   "source": [
    "n_qubits = 10\n",
    "n_layers = 4\n",
    "dev = qml.device(\"default.qubit\", wires=n_qubits)\n",
    "\n",
    "@qml.qnode(dev, diff_method=\"adjoint\")\n",
    "def qnode(inputs, weights):\n",
    "\n",
    "#     for ii in range(n_qubits):\n",
    "#         qml.RY(np.pi * inputs[ii], wires=ii)\n",
    "    \n",
    "    qml.AmplitudeEmbedding(features=inputs, wires=range(10),normalize=True,pad_with=0)\n",
    "\n",
    "    for jj in range(n_layers):\n",
    "        for ii in range(n_qubits):\n",
    "            qml.RZ(weights[jj,ii,0], wires=ii)\n",
    "            qml.RY(weights[jj,ii,1], wires=ii)\n",
    "            qml.RZ(weights[jj,ii,2], wires=ii)\n",
    "            \n",
    "        for ii in range(0,n_qubits,2):\n",
    "            \n",
    "            if (ii != n_qubits-1) :\n",
    "                 qml.CNOT(wires=[ii+1,ii])\n",
    "                    \n",
    "        for ii in range(1,n_qubits,2):\n",
    "            \n",
    "            if (ii != n_qubits-1) :\n",
    "                 qml.CNOT(wires=[ii+1,ii])\n",
    "                    \n",
    "        \n",
    "                    \n",
    "#     for ii in range(n_qubits,2*n_qubits):\n",
    "\n",
    "#         qml.RZ(weights[jj,ii,0], wires=ii-n_qubits)\n",
    "#         qml.RY(weights[jj,ii,1], wires=ii-n_qubits)\n",
    "#         qml.RZ(weights[jj,ii,2], wires=ii-n_qubits)\n",
    "        \n",
    "        \n",
    "    for ii in range(n_qubits):\n",
    "            qml.RZ(weights[n_layers,ii,0], wires=ii)\n",
    "            qml.RY(weights[n_layers,ii,1], wires=ii)\n",
    "            qml.RZ(weights[n_layers,ii,2], wires=ii)\n",
    "            \n",
    "\n",
    "#             if (ii != n_qubits-1) :\n",
    "#                 qml.CNOT(wires=[ii+1,ii])\n",
    "            \n",
    "#             qml.RZ(weights[jj,2*ii,0], wires=ii)\n",
    "#             qml.RY(weights[jj,2*ii,1], wires=ii)\n",
    "#             qml.RZ(weights[jj,2*ii,2], wires=ii)\n",
    "            \n",
    "        \n",
    "\n",
    "    op = qml.PauliZ(0)\n",
    "    for i in range(1,10):\n",
    "        op = op @ qml.PauliZ(i)\n",
    "\n",
    "    return qml.expval(op)\n",
    "\n",
    "weight_shapes = {\"weights\": (n_layers+1, (n_qubits*(n_layers + 1)) , 3) }\n",
    "\n",
    "\n",
    "qlayer = qml.qnn.KerasLayer(qnode, weight_shapes, output_dim=1, name=\"quantumLayer\")\n",
    "inputs = tf.keras.Input(shape=(784,), name=\"inputs\")\n",
    "outputs = qlayer(inputs)\n",
    "model = tf.keras.Model(inputs=inputs, outputs=outputs, name=\"QNN\")\n",
    "\n",
    "\n",
    "print(model.summary())"
   ]
  },
  {
   "cell_type": "code",
   "execution_count": null,
   "metadata": {},
   "outputs": [],
   "source": []
  },
  {
   "cell_type": "code",
   "execution_count": 23,
   "metadata": {},
   "outputs": [
    {
     "ename": "IndexError",
     "evalue": "index 4 is out of bounds for axis 0 with size 4",
     "output_type": "error",
     "traceback": [
      "\u001b[1;31m---------------------------------------------------------------------------\u001b[0m",
      "\u001b[1;31mIndexError\u001b[0m                                Traceback (most recent call last)",
      "Input \u001b[1;32mIn [23]\u001b[0m, in \u001b[0;36m<cell line: 3>\u001b[1;34m()\u001b[0m\n\u001b[0;32m      1\u001b[0m weights \u001b[38;5;241m=\u001b[39mnp\u001b[38;5;241m.\u001b[39mrandom\u001b[38;5;241m.\u001b[39mnormal(size\u001b[38;5;241m=\u001b[39m(\u001b[38;5;241m4\u001b[39m, \u001b[38;5;241m50\u001b[39m, \u001b[38;5;241m3\u001b[39m)) \n\u001b[0;32m      2\u001b[0m inputs \u001b[38;5;241m=\u001b[39m np\u001b[38;5;241m.\u001b[39mrandom\u001b[38;5;241m.\u001b[39mnormal(size\u001b[38;5;241m=\u001b[39m(\u001b[38;5;241m1\u001b[39m,\u001b[38;5;241m784\u001b[39m)) \n\u001b[1;32m----> 3\u001b[0m fig, ax \u001b[38;5;241m=\u001b[39m \u001b[43mqml\u001b[49m\u001b[38;5;241;43m.\u001b[39;49m\u001b[43mdraw_mpl\u001b[49m\u001b[43m(\u001b[49m\u001b[43mqnode\u001b[49m\u001b[43m,\u001b[49m\u001b[43m \u001b[49m\u001b[43mdecimals\u001b[49m\u001b[38;5;241;43m=\u001b[39;49m\u001b[38;5;241;43m2\u001b[39;49m\u001b[43m)\u001b[49m\u001b[43m(\u001b[49m\u001b[43minputs\u001b[49m\u001b[43m,\u001b[49m\u001b[43mweights\u001b[49m\u001b[43m)\u001b[49m\n\u001b[0;32m      4\u001b[0m fig\u001b[38;5;241m.\u001b[39mshow()\n",
      "File \u001b[1;32m~\\anaconda3\\envs\\user_env\\lib\\site-packages\\pennylane\\drawer\\draw.py:536\u001b[0m, in \u001b[0;36m_draw_mpl_qnode.<locals>.wrapper\u001b[1;34m(*args, **kwargs_qnode)\u001b[0m\n\u001b[0;32m    534\u001b[0m \u001b[38;5;28;01mtry\u001b[39;00m:\n\u001b[0;32m    535\u001b[0m     qnode\u001b[38;5;241m.\u001b[39mexpansion_strategy \u001b[38;5;241m=\u001b[39m expansion_strategy \u001b[38;5;129;01mor\u001b[39;00m original_expansion_strategy\n\u001b[1;32m--> 536\u001b[0m     \u001b[43mqnode\u001b[49m\u001b[38;5;241;43m.\u001b[39;49m\u001b[43mconstruct\u001b[49m\u001b[43m(\u001b[49m\u001b[43margs\u001b[49m\u001b[43m,\u001b[49m\u001b[43m \u001b[49m\u001b[43mkwargs_qnode\u001b[49m\u001b[43m)\u001b[49m\n\u001b[0;32m    537\u001b[0m \u001b[38;5;28;01mfinally\u001b[39;00m:\n\u001b[0;32m    538\u001b[0m     qnode\u001b[38;5;241m.\u001b[39mexpansion_strategy \u001b[38;5;241m=\u001b[39m original_expansion_strategy\n",
      "File \u001b[1;32m~\\anaconda3\\envs\\user_env\\lib\\site-packages\\pennylane\\qnode.py:751\u001b[0m, in \u001b[0;36mQNode.construct\u001b[1;34m(self, args, kwargs)\u001b[0m\n\u001b[0;32m    748\u001b[0m \u001b[38;5;28;01mif\u001b[39;00m old_interface \u001b[38;5;241m==\u001b[39m \u001b[38;5;124m\"\u001b[39m\u001b[38;5;124mauto\u001b[39m\u001b[38;5;124m\"\u001b[39m:\n\u001b[0;32m    749\u001b[0m     \u001b[38;5;28mself\u001b[39m\u001b[38;5;241m.\u001b[39minterface \u001b[38;5;241m=\u001b[39m qml\u001b[38;5;241m.\u001b[39mmath\u001b[38;5;241m.\u001b[39mget_interface(\u001b[38;5;241m*\u001b[39margs, \u001b[38;5;241m*\u001b[39m\u001b[38;5;28mlist\u001b[39m(kwargs\u001b[38;5;241m.\u001b[39mvalues()))\n\u001b[1;32m--> 751\u001b[0m \u001b[38;5;28mself\u001b[39m\u001b[38;5;241m.\u001b[39m_tape \u001b[38;5;241m=\u001b[39m make_qscript(\u001b[38;5;28mself\u001b[39m\u001b[38;5;241m.\u001b[39mfunc)(\u001b[38;5;241m*\u001b[39margs, \u001b[38;5;241m*\u001b[39m\u001b[38;5;241m*\u001b[39mkwargs)\n\u001b[0;32m    752\u001b[0m \u001b[38;5;28mself\u001b[39m\u001b[38;5;241m.\u001b[39m_qfunc_output \u001b[38;5;241m=\u001b[39m \u001b[38;5;28mself\u001b[39m\u001b[38;5;241m.\u001b[39mtape\u001b[38;5;241m.\u001b[39m_qfunc_output\n\u001b[0;32m    754\u001b[0m params \u001b[38;5;241m=\u001b[39m \u001b[38;5;28mself\u001b[39m\u001b[38;5;241m.\u001b[39mtape\u001b[38;5;241m.\u001b[39mget_parameters(trainable_only\u001b[38;5;241m=\u001b[39m\u001b[38;5;28;01mFalse\u001b[39;00m)\n",
      "File \u001b[1;32m~\\anaconda3\\envs\\user_env\\lib\\site-packages\\pennylane\\tape\\qscript.py:1371\u001b[0m, in \u001b[0;36mmake_qscript.<locals>.wrapper\u001b[1;34m(*args, **kwargs)\u001b[0m\n\u001b[0;32m   1369\u001b[0m \u001b[38;5;28;01mdef\u001b[39;00m \u001b[38;5;21mwrapper\u001b[39m(\u001b[38;5;241m*\u001b[39margs, \u001b[38;5;241m*\u001b[39m\u001b[38;5;241m*\u001b[39mkwargs):\n\u001b[0;32m   1370\u001b[0m     \u001b[38;5;28;01mwith\u001b[39;00m AnnotatedQueue() \u001b[38;5;28;01mas\u001b[39;00m q:\n\u001b[1;32m-> 1371\u001b[0m         result \u001b[38;5;241m=\u001b[39m fn(\u001b[38;5;241m*\u001b[39margs, \u001b[38;5;241m*\u001b[39m\u001b[38;5;241m*\u001b[39mkwargs)\n\u001b[0;32m   1373\u001b[0m     qscript \u001b[38;5;241m=\u001b[39m QuantumScript\u001b[38;5;241m.\u001b[39mfrom_queue(q)\n\u001b[0;32m   1374\u001b[0m     qscript\u001b[38;5;241m.\u001b[39m_qfunc_output \u001b[38;5;241m=\u001b[39m result\n",
      "Input \u001b[1;32mIn [22]\u001b[0m, in \u001b[0;36mqnode\u001b[1;34m(inputs, weights)\u001b[0m\n\u001b[0;32m     31\u001b[0m \u001b[38;5;66;03m#     for ii in range(n_qubits,2*n_qubits):\u001b[39;00m\n\u001b[0;32m     32\u001b[0m \n\u001b[0;32m     33\u001b[0m \u001b[38;5;66;03m#         qml.RZ(weights[jj,ii,0], wires=ii-n_qubits)\u001b[39;00m\n\u001b[0;32m     34\u001b[0m \u001b[38;5;66;03m#         qml.RY(weights[jj,ii,1], wires=ii-n_qubits)\u001b[39;00m\n\u001b[0;32m     35\u001b[0m \u001b[38;5;66;03m#         qml.RZ(weights[jj,ii,2], wires=ii-n_qubits)\u001b[39;00m\n\u001b[0;32m     38\u001b[0m     \u001b[38;5;28;01mfor\u001b[39;00m ii \u001b[38;5;129;01min\u001b[39;00m \u001b[38;5;28mrange\u001b[39m(n_qubits):\n\u001b[1;32m---> 39\u001b[0m             qml\u001b[38;5;241m.\u001b[39mRZ(\u001b[43mweights\u001b[49m\u001b[43m[\u001b[49m\u001b[43mn_layers\u001b[49m\u001b[43m,\u001b[49m\u001b[43mii\u001b[49m\u001b[43m,\u001b[49m\u001b[38;5;241;43m0\u001b[39;49m\u001b[43m]\u001b[49m, wires\u001b[38;5;241m=\u001b[39mii)\n\u001b[0;32m     40\u001b[0m             qml\u001b[38;5;241m.\u001b[39mRY(weights[n_layers,ii,\u001b[38;5;241m1\u001b[39m], wires\u001b[38;5;241m=\u001b[39mii)\n\u001b[0;32m     41\u001b[0m             qml\u001b[38;5;241m.\u001b[39mRZ(weights[n_layers,ii,\u001b[38;5;241m2\u001b[39m], wires\u001b[38;5;241m=\u001b[39mii)\n",
      "\u001b[1;31mIndexError\u001b[0m: index 4 is out of bounds for axis 0 with size 4"
     ]
    }
   ],
   "source": [
    "weights =np.random.normal(size=(4, 50, 3)) \n",
    "inputs = np.random.normal(size=(1,784)) \n",
    "fig, ax = qml.draw_mpl(qnode, decimals=2)(inputs,weights)\n",
    "fig.show()"
   ]
  },
  {
   "cell_type": "code",
   "execution_count": null,
   "metadata": {},
   "outputs": [],
   "source": []
  },
  {
   "cell_type": "markdown",
   "metadata": {},
   "source": [
    "Redefine the classification values to match the Hinge loss"
   ]
  },
  {
   "cell_type": "code",
   "execution_count": 24,
   "metadata": {},
   "outputs": [],
   "source": [
    "y_train_hinge = 2.0*y_train-1.0\n",
    "y_test_hinge = 2.0*y_test-1.0"
   ]
  },
  {
   "cell_type": "markdown",
   "metadata": {},
   "source": [
    "Define the hinge accuracy"
   ]
  },
  {
   "cell_type": "code",
   "execution_count": 25,
   "metadata": {},
   "outputs": [],
   "source": [
    "def hinge_accuracy(y_true, y_pred):\n",
    "    y_true = tf.squeeze(y_true) > 0.0\n",
    "    y_pred = tf.squeeze(y_pred) > 0.0\n",
    "    result = tf.cast(y_true == y_pred, tf.float32)\n",
    "\n",
    "    return tf.reduce_mean(result)"
   ]
  },
  {
   "cell_type": "markdown",
   "metadata": {},
   "source": [
    "## Compile and train the model\n",
    "\n",
    "Compile the model using the hinge loss and accuracy and the Adam optimiser"
   ]
  },
  {
   "cell_type": "code",
   "execution_count": 26,
   "metadata": {},
   "outputs": [],
   "source": [
    "model.compile(\n",
    "    loss=tf.keras.losses.Hinge(),\n",
    "    optimizer=tf.keras.optimizers.Adam(),\n",
    "    metrics=[hinge_accuracy])"
   ]
  },
  {
   "cell_type": "code",
   "execution_count": 27,
   "metadata": {},
   "outputs": [
    {
     "name": "stdout",
     "output_type": "stream",
     "text": [
      "Model: \"QNN\"\n",
      "_________________________________________________________________\n",
      " Layer (type)                Output Shape              Param #   \n",
      "=================================================================\n",
      " inputs (InputLayer)         [(None, 784)]             0         \n",
      "                                                                 \n",
      " quantumLayer (KerasLayer)   (None, 1)                 0 (unused)\n",
      "                                                                 \n",
      "=================================================================\n",
      "Total params: 0\n",
      "Trainable params: 0\n",
      "Non-trainable params: 0\n",
      "_________________________________________________________________\n",
      "None\n"
     ]
    }
   ],
   "source": [
    "print(model.summary())"
   ]
  },
  {
   "cell_type": "markdown",
   "metadata": {},
   "source": [
    "Train the model over 20 epochs"
   ]
  },
  {
   "cell_type": "code",
   "execution_count": null,
   "metadata": {},
   "outputs": [
    {
     "name": "stdout",
     "output_type": "stream",
     "text": [
      "512\n",
      "Epoch 1/50\n"
     ]
    }
   ],
   "source": [
    "EPOCHS = 50\n",
    "BATCH_SIZE = 32\n",
    "\n",
    "NUM_EXAMPLES = 512 #x_train_small.shape[0]\n",
    "print(NUM_EXAMPLES)\n",
    "\n",
    "flattened_images_train = flattened_images_train[:NUM_EXAMPLES,:]\n",
    "y_train_hinge_sub = y_train_hinge[:NUM_EXAMPLES]\n",
    "\n",
    "flattened_images_test = flattened_images_test[:,:]\n",
    "y_test_sub = y_test[:]\n",
    "\n",
    "qnn_history_1layer = model.fit(\n",
    "      flattened_images_train, y_train_hinge_sub,\n",
    "      batch_size=BATCH_SIZE,\n",
    "      epochs=EPOCHS,\n",
    "      verbose=1)#,\n",
    "      #validation_data=(x_test_sub, y_test_sub))\n",
    "\n",
    "qnn_results_1layer = model.evaluate(flattened_images_test, y_test_sub)"
   ]
  },
  {
   "cell_type": "code",
   "execution_count": 22,
   "metadata": {},
   "outputs": [],
   "source": [
    "import os\n",
    "import pickle\n",
    "filename= \"custom_amplitude_50_2hl_adam_adjoint.pickle\"\n",
    "history_path = os.path.join('history', filename)\n",
    "with open(history_path, 'wb') as f:\n",
    "    pickle.dump(qnn_history_1layer.history, f, pickle.HIGHEST_PROTOCOL)"
   ]
  },
  {
   "cell_type": "code",
   "execution_count": null,
   "metadata": {},
   "outputs": [],
   "source": []
  },
  {
   "cell_type": "code",
   "execution_count": 21,
   "metadata": {},
   "outputs": [
    {
     "name": "stdout",
     "output_type": "stream",
     "text": [
      "Keras weights file (<HDF5 file \"variables.h5\" (mode r+)>) saving:\n",
      "...layers\\input_layer\n",
      "......vars\n",
      "...layers\\keras_layer\n",
      "......vars\n",
      ".........0\n",
      "...metrics\\mean\n",
      "......vars\n",
      ".........0\n",
      ".........1\n",
      "...metrics\\mean_metric_wrapper\n",
      "......vars\n",
      ".........0\n",
      ".........1\n",
      "...optimizer\n",
      "......vars\n",
      ".........0\n",
      ".........1\n",
      ".........2\n",
      "...vars\n",
      "Keras model archive saving:\n",
      "File Name                                             Modified             Size\n",
      "config.json                                    2023-04-24 21:19:35         1541\n",
      "metadata.json                                  2023-04-24 21:19:35           64\n",
      "variables.h5                                   2023-04-24 21:19:35        16144\n"
     ]
    }
   ],
   "source": [
    "import pickle\n",
    "\n",
    "pickle.dump(model, open('amplitude_20_epochs_1_ansatz_adam_adjoint.pkl', 'wb'))"
   ]
  },
  {
   "cell_type": "code",
   "execution_count": 17,
   "metadata": {},
   "outputs": [
    {
     "name": "stdout",
     "output_type": "stream",
     "text": [
      "Model: \"QNN\"\n",
      "_________________________________________________________________\n",
      " Layer (type)                Output Shape              Param #   \n",
      "=================================================================\n",
      " inputs (InputLayer)         [(None, 784)]             0         \n",
      "                                                                 \n",
      " quantumLayer (KerasLayer)   (None, 1)                 57        \n",
      "                                                                 \n",
      "=================================================================\n",
      "Total params: 57\n",
      "Trainable params: 57\n",
      "Non-trainable params: 0\n",
      "_________________________________________________________________\n",
      "None\n"
     ]
    }
   ],
   "source": [
    "print(model.summary())"
   ]
  },
  {
   "cell_type": "markdown",
   "metadata": {},
   "source": [
    "Create and train a 2 layer version of the QNN"
   ]
  },
  {
   "cell_type": "code",
   "execution_count": 56,
   "metadata": {},
   "outputs": [
    {
     "name": "stdout",
     "output_type": "stream",
     "text": [
      "Model: \"QNN\"\n",
      "_________________________________________________________________\n",
      " Layer (type)                Output Shape              Param #   \n",
      "=================================================================\n",
      " inputs (InputLayer)         [(None, 784)]             0         \n",
      "                                                                 \n",
      " quantumLayer (KerasLayer)   (None, 1)                 0 (unused)\n",
      "                                                                 \n",
      "=================================================================\n",
      "Total params: 0\n",
      "Trainable params: 0\n",
      "Non-trainable params: 0\n",
      "_________________________________________________________________\n",
      "None\n"
     ]
    }
   ],
   "source": [
    "n_qubits = 10\n",
    "n_layers = 2\n",
    "dev = qml.device(\"default.qubit\", wires=n_qubits)\n",
    "\n",
    "@qml.qnode(dev, diff_method=\"adjoint\")\n",
    "def qnode(inputs, weights):\n",
    "\n",
    "#     for ii in range(n_qubits):\n",
    "#         qml.RY(np.pi * inputs[ii], wires=ii)\n",
    "\n",
    "    qml.AmplitudeEmbedding(features=inputs, wires=range(10),normalize=True,pad_with=0.01)\n",
    "\n",
    "    for jj in range(n_layers):\n",
    "        for ii in range(n_qubits-1):\n",
    "            qml.RZ(weights[jj,2*ii,0], wires=0)\n",
    "            qml.RY(weights[jj,2*ii,1], wires=0)\n",
    "            qml.RZ(weights[jj,2*ii,2], wires=0)\n",
    "\n",
    "            qml.RZ(weights[jj,2*ii+1,0], wires=ii+1)\n",
    "            qml.RY(weights[jj,2*ii+1,1], wires=ii+1)\n",
    "            qml.RZ(weights[jj,2*ii+1,2], wires=ii+1)\n",
    "\n",
    "            #qml.U3(*list(weights[jj,2*ii,:]), wires=0)\n",
    "            #qml.U3(*list(weights[jj,2*ii+1,:]), wires=ii+1)\n",
    "            qml.CNOT(wires=[ii+1,0])\n",
    "            \n",
    "        qml.RZ(weights[jj,2*(n_qubits-1),0], wires=0)\n",
    "        qml.RY(weights[jj,2*(n_qubits-1),1], wires=0)\n",
    "        qml.RZ(weights[jj,2*(n_qubits-1),2], wires=0)\n",
    "\n",
    "    return qml.expval(qml.PauliZ(0))\n",
    "\n",
    "weight_shapes = {\"weights\": (n_layers, 2*(n_qubits-1)+1, 3) }\n",
    "\n",
    "\n",
    "qlayer = qml.qnn.KerasLayer(qnode, weight_shapes, output_dim=1, name=\"quantumLayer\")\n",
    "inputs = tf.keras.Input(shape=(784,), name=\"inputs\")\n",
    "outputs = qlayer(inputs)\n",
    "model2 = tf.keras.Model(inputs=inputs, outputs=outputs, name=\"QNN\")\n",
    "\n",
    "#model2.predict(x_train_small[0,:])\n",
    "print(model2.summary())"
   ]
  },
  {
   "cell_type": "code",
   "execution_count": 57,
   "metadata": {},
   "outputs": [],
   "source": [
    "model2.compile(\n",
    "    loss=tf.keras.losses.Hinge(),\n",
    "    optimizer=tf.keras.optimizers.Adam(),\n",
    "    metrics=[hinge_accuracy])"
   ]
  },
  {
   "cell_type": "code",
   "execution_count": 60,
   "metadata": {},
   "outputs": [
    {
     "name": "stdout",
     "output_type": "stream",
     "text": [
      "512\n",
      "Epoch 1/40\n",
      "16/16 [==============================] - 125s 8s/step - loss: 1.0285 - hinge_accuracy: 0.4902\n",
      "Epoch 2/40\n",
      "16/16 [==============================] - 125s 8s/step - loss: 1.0212 - hinge_accuracy: 0.4902\n",
      "Epoch 3/40\n",
      "16/16 [==============================] - 125s 8s/step - loss: 1.0138 - hinge_accuracy: 0.4902\n",
      "Epoch 4/40\n",
      "16/16 [==============================] - 125s 8s/step - loss: 1.0062 - hinge_accuracy: 0.4902\n",
      "Epoch 5/40\n",
      "16/16 [==============================] - 128s 8s/step - loss: 0.9983 - hinge_accuracy: 0.4902\n",
      "Epoch 6/40\n",
      "16/16 [==============================] - 128s 8s/step - loss: 0.9903 - hinge_accuracy: 0.4902\n",
      "Epoch 7/40\n",
      "16/16 [==============================] - 125s 8s/step - loss: 0.9818 - hinge_accuracy: 0.4902\n",
      "Epoch 8/40\n",
      "16/16 [==============================] - 125s 8s/step - loss: 0.9726 - hinge_accuracy: 0.4902\n",
      "Epoch 9/40\n",
      "16/16 [==============================] - 126s 8s/step - loss: 0.9636 - hinge_accuracy: 0.4902\n",
      "Epoch 10/40\n",
      "16/16 [==============================] - 126s 8s/step - loss: 0.9540 - hinge_accuracy: 0.5000\n",
      "Epoch 11/40\n",
      "16/16 [==============================] - 126s 8s/step - loss: 0.9446 - hinge_accuracy: 0.5176\n",
      "Epoch 12/40\n",
      "16/16 [==============================] - 128s 8s/step - loss: 0.9363 - hinge_accuracy: 0.5996\n",
      "Epoch 13/40\n",
      "16/16 [==============================] - 126s 8s/step - loss: 0.9282 - hinge_accuracy: 0.6934\n",
      "Epoch 14/40\n",
      "16/16 [==============================] - 128s 8s/step - loss: 0.9207 - hinge_accuracy: 0.7793\n",
      "Epoch 15/40\n",
      "16/16 [==============================] - 130s 8s/step - loss: 0.9144 - hinge_accuracy: 0.8301\n",
      "Epoch 16/40\n",
      "16/16 [==============================] - 131s 8s/step - loss: 0.9091 - hinge_accuracy: 0.8652\n",
      "Epoch 17/40\n",
      "16/16 [==============================] - 127s 8s/step - loss: 0.9039 - hinge_accuracy: 0.8848\n",
      "Epoch 18/40\n",
      "16/16 [==============================] - 123s 8s/step - loss: 0.8996 - hinge_accuracy: 0.8926\n",
      "Epoch 19/40\n",
      "16/16 [==============================] - 127s 8s/step - loss: 0.8957 - hinge_accuracy: 0.9121\n",
      "Epoch 20/40\n",
      "16/16 [==============================] - 125s 8s/step - loss: 0.8919 - hinge_accuracy: 0.9199\n",
      "Epoch 21/40\n",
      "16/16 [==============================] - 125s 8s/step - loss: 0.8884 - hinge_accuracy: 0.9219\n",
      "Epoch 22/40\n",
      "16/16 [==============================] - 131s 8s/step - loss: 0.8846 - hinge_accuracy: 0.9297\n",
      "Epoch 23/40\n",
      "16/16 [==============================] - 129s 8s/step - loss: 0.8806 - hinge_accuracy: 0.9395\n",
      "Epoch 24/40\n",
      "16/16 [==============================] - 269s 17s/step - loss: 0.8760 - hinge_accuracy: 0.9434\n",
      "Epoch 25/40\n",
      "16/16 [==============================] - 295s 18s/step - loss: 0.8707 - hinge_accuracy: 0.9492\n",
      "Epoch 26/40\n",
      "16/16 [==============================] - 286s 18s/step - loss: 0.8650 - hinge_accuracy: 0.9570\n",
      "Epoch 27/40\n",
      "16/16 [==============================] - 282s 18s/step - loss: 0.8583 - hinge_accuracy: 0.9531\n",
      "Epoch 28/40\n",
      "16/16 [==============================] - 281s 18s/step - loss: 0.8517 - hinge_accuracy: 0.9570\n",
      "Epoch 29/40\n",
      "16/16 [==============================] - 283s 18s/step - loss: 0.8458 - hinge_accuracy: 0.9590\n",
      "Epoch 30/40\n",
      "16/16 [==============================] - 281s 18s/step - loss: 0.8405 - hinge_accuracy: 0.9648\n",
      "Epoch 31/40\n",
      "16/16 [==============================] - 281s 17s/step - loss: 0.8360 - hinge_accuracy: 0.9648\n",
      "Epoch 32/40\n",
      "16/16 [==============================] - 277s 17s/step - loss: 0.8321 - hinge_accuracy: 0.9648\n",
      "Epoch 33/40\n",
      "16/16 [==============================] - 275s 17s/step - loss: 0.8288 - hinge_accuracy: 0.9570\n",
      "Epoch 34/40\n",
      "16/16 [==============================] - 280s 17s/step - loss: 0.8256 - hinge_accuracy: 0.9570\n",
      "Epoch 35/40\n",
      "16/16 [==============================] - 281s 18s/step - loss: 0.8229 - hinge_accuracy: 0.9551\n",
      "Epoch 36/40\n",
      "16/16 [==============================] - 276s 17s/step - loss: 0.8201 - hinge_accuracy: 0.9551\n",
      "Epoch 37/40\n",
      "16/16 [==============================] - 278s 17s/step - loss: 0.8177 - hinge_accuracy: 0.9551\n",
      "Epoch 38/40\n",
      "16/16 [==============================] - 274s 17s/step - loss: 0.8154 - hinge_accuracy: 0.9551\n",
      "Epoch 39/40\n",
      "16/16 [==============================] - 275s 17s/step - loss: 0.8132 - hinge_accuracy: 0.9570\n",
      "Epoch 40/40\n",
      "16/16 [==============================] - 277s 17s/step - loss: 0.8112 - hinge_accuracy: 0.9551\n",
      "62/62 [==============================] - 392s 6s/step - loss: 0.8146 - hinge_accuracy: 0.9531\n"
     ]
    }
   ],
   "source": [
    "EPOCHS = 40\n",
    "BATCH_SIZE = 32\n",
    "\n",
    "NUM_EXAMPLES = 512 #x_train_small.shape[0]\n",
    "print(NUM_EXAMPLES)\n",
    "\n",
    "flattened_images_train = flattened_images_train[:NUM_EXAMPLES,:]\n",
    "y_train_hinge_sub = y_train_hinge[:NUM_EXAMPLES]\n",
    "\n",
    "flattened_images_test = flattened_images_test[:,:]\n",
    "y_test_sub = y_test[:]\n",
    "\n",
    "qnn_history_2layer = model2.fit(\n",
    "      flattened_images_train, y_train_hinge_sub,\n",
    "      batch_size=BATCH_SIZE,\n",
    "      epochs=EPOCHS,\n",
    "      verbose=1)#,\n",
    "      #validation_data=(x_test_sub, y_test_sub))\n",
    "\n",
    "qnn_results_2layer = model2.evaluate(flattened_images_test, y_test_sub)"
   ]
  },
  {
   "cell_type": "markdown",
   "metadata": {},
   "source": [
    "## Plot the results!"
   ]
  },
  {
   "cell_type": "code",
   "execution_count": 61,
   "metadata": {},
   "outputs": [
    {
     "data": {
      "image/png": "[encoded data removed]",
      "text/plain": [
       "<Figure size 640x480 with 1 Axes>"
      ]
     },
     "metadata": {},
     "output_type": "display_data"
    }
   ],
   "source": [
    "# plot the hinge accuracy for the qnn history for both 1 and 2 layer on the same axes\n",
    "plt.plot(np.arange(1,41), qnn_history_1layer.history[\"hinge_accuracy\"], label=\"1 layer QNN\")\n",
    "plt.plot(np.arange(1,41), qnn_history_2layer.history[\"hinge_accuracy\"], label=\"2 layer QNN\")\n",
    "plt.xlabel(\"Epoch\")\n",
    "plt.ylabel(\"Hinge Accuracy_Amplitude_Encoding_full_image\")\n",
    "plt.legend()\n",
    "# modify x_ticks to also include 20\n",
    "plt.xticks(np.arange(0, 41, 2))\n",
    "# save as pdf with tight layout and no padding\n",
    "plt.savefig(\"qnn_hinge_accuracy_Amplitude_Encoding_full_image.pdf\", bbox_inches=\"tight\", pad_inches=0)\n",
    "plt.show()"
   ]
  },
  {
   "cell_type": "code",
   "execution_count": 62,
   "metadata": {},
   "outputs": [
    {
     "data": {
      "image/png": "[encoded data removed]",
      "text/plain": [
       "<Figure size 640x480 with 1 Axes>"
      ]
     },
     "metadata": {},
     "output_type": "display_data"
    }
   ],
   "source": [
    "# plot the hinge accuracy for the loss for both 1 and 2 layer on the same axes\n",
    "plt.plot(np.arange(1,41), qnn_history_1layer.history[\"loss\"], label=\"1 layer QNN\")\n",
    "plt.plot(np.arange(1,41), qnn_history_2layer.history[\"loss\"], label=\"2 layer QNN\")\n",
    "plt.xlabel(\"Epoch\")\n",
    "plt.ylabel(\"Hinge Loss_Amplitude_Encoding_full_image\")\n",
    "plt.legend()\n",
    "# modify x_ticks to also include 20\n",
    "plt.xticks(np.arange(0, 41, 2))\n",
    "# save as pdf with tight layout and no padding\n",
    "plt.savefig(\"qnn_hinge_loss_Amplitude_Encoding_full_image.pdf\", bbox_inches=\"tight\", pad_inches=0)\n",
    "plt.show()"
   ]
  },
  {
   "cell_type": "code",
   "execution_count": 69,
   "metadata": {},
   "outputs": [
    {
     "name": "stdout",
     "output_type": "stream",
     "text": [
      "Package                      VersionNote: you may need to restart the kernel to use updated packages.\n",
      "\n",
      "---------------------------- -----------\n",
      "absl-py                      1.4.0\n",
      "altair                       4.2.0\n",
      "appdirs                      1.4.4\n",
      "argon2-cffi                  21.3.0\n",
      "argon2-cffi-bindings         21.2.0\n",
      "asttokens                    2.0.5\n",
      "astunparse                   1.6.3\n",
      "attrs                        21.4.0\n",
      "autograd                     1.5\n",
      "autoray                      0.6.1\n",
      "backcall                     0.2.0\n",
      "beautifulsoup4               4.11.1\n",
      "black                        22.10.0\n",
      "bleach                       4.1.0\n",
      "blinker                      1.5\n",
      "cachetools                   5.2.0\n",
      "certifi                      2022.6.15\n",
      "cffi                         1.15.1\n",
      "charset-normalizer           2.1.1\n",
      "click                        8.1.3\n",
      "colorama                     0.4.5\n",
      "commonmark                   0.9.1\n",
      "contourpy                    1.0.5\n",
      "cryptography                 39.0.2\n",
      "cycler                       0.11.0\n",
      "Cython                       0.29.33\n",
      "debugpy                      1.5.1\n",
      "decorator                    5.1.1\n",
      "defusedxml                   0.7.1\n",
      "dill                         0.3.6\n",
      "entrypoints                  0.4\n",
      "executing                    0.8.3\n",
      "fastjsonschema               2.16.2\n",
      "flatbuffers                  23.3.3\n",
      "fonttools                    4.38.0\n",
      "future                       0.18.3\n",
      "gast                         0.4.0\n",
      "gitdb                        4.0.9\n",
      "GitPython                    3.1.29\n",
      "google-auth                  2.16.2\n",
      "google-auth-oauthlib         0.4.6\n",
      "google-pasta                 0.2.0\n",
      "grpcio                       1.51.3\n",
      "h5py                         3.8.0\n",
      "idna                         3.4\n",
      "importlib-metadata           5.0.0\n",
      "ipykernel                    6.15.2\n",
      "ipython                      8.4.0\n",
      "ipython-genutils             0.2.0\n",
      "ipywidgets                   8.0.2\n",
      "jedi                         0.18.1\n",
      "Jinja2                       3.0.3\n",
      "joblib                       1.2.0\n",
      "jsonschema                   4.16.0\n",
      "jupyter_client               7.3.5\n",
      "jupyter_core                 4.11.1\n",
      "jupyterlab-pygments          0.1.2\n",
      "jupyterlab-widgets           3.0.3\n",
      "kaleido                      0.2.1\n",
      "keras                        2.11.0\n",
      "kiwisolver                   1.4.4\n",
      "libclang                     15.0.6.1\n",
      "Markdown                     3.4.1\n",
      "MarkupSafe                   2.1.1\n",
      "matplotlib                   3.6.1\n",
      "matplotlib-inline            0.1.6\n",
      "mistune                      0.8.4\n",
      "mpmath                       1.3.0\n",
      "mthree                       2.1.0\n",
      "munkres                      1.1.4\n",
      "mypy-extensions              0.4.3\n",
      "nbclient                     0.5.13\n",
      "nbconvert                    6.4.4\n",
      "nbformat                     5.5.0\n",
      "nest-asyncio                 1.5.5\n",
      "networkx                     3.0\n",
      "notebook                     6.4.12\n",
      "ntlm-auth                    1.5.0\n",
      "numpy                        1.23.4\n",
      "oauthlib                     3.2.2\n",
      "opencv-python                4.6.0\n",
      "opt-einsum                   3.3.0\n",
      "orjson                       3.8.7\n",
      "packaging                    21.3\n",
      "pandas                       1.5.1\n",
      "pandocfilters                1.5.0\n",
      "parso                        0.8.3\n",
      "pathspec                     0.10.2\n",
      "pbr                          5.11.1\n",
      "PennyLane                    0.29.1\n",
      "PennyLane-Lightning          0.29.0\n",
      "PennyLane-qiskit             0.29.0\n",
      "pickleshare                  0.7.5\n",
      "Pillow                       9.0.1\n",
      "pip                          22.3\n",
      "platformdirs                 2.5.4\n",
      "plotly                       5.5.0\n",
      "ply                          3.11\n",
      "prometheus-client            0.14.1\n",
      "prompt-toolkit               3.0.20\n",
      "protobuf                     3.19.6\n",
      "psutil                       5.9.0\n",
      "pure-eval                    0.2.2\n",
      "pyarrow                      10.0.0\n",
      "pyasn1                       0.4.8\n",
      "pyasn1-modules               0.2.8\n",
      "pycparser                    2.21\n",
      "pydeck                       0.8.0\n",
      "Pygments                     2.11.2\n",
      "Pympler                      1.0.1\n",
      "pyparsing                    3.0.9\n",
      "PyPDF2                       2.11.2\n",
      "PyQt5                        5.15.7\n",
      "PyQt5-sip                    12.11.0\n",
      "pyrsistent                   0.18.0\n",
      "python-dateutil              2.8.2\n",
      "pytz                         2022.6\n",
      "pytz-deprecation-shim        0.1.0.post0\n",
      "pywin32                      302\n",
      "pywinpty                     2.0.2\n",
      "pyzmq                        23.2.0\n",
      "qiskit                       0.42.0\n",
      "qiskit-aer                   0.12.0\n",
      "qiskit-ibmq-provider         0.20.2\n",
      "qiskit-terra                 0.23.2\n",
      "requests                     2.28.1\n",
      "requests-ntlm                1.1.0\n",
      "requests-oauthlib            1.3.1\n",
      "retworkx                     0.12.1\n",
      "rich                         12.6.0\n",
      "rsa                          4.9\n",
      "rustworkx                    0.12.1\n",
      "scikit-learn                 1.2.2\n",
      "scipy                        1.9.3\n",
      "seaborn                      0.11.2\n",
      "semantic-version             2.10.0\n",
      "semver                       2.13.0\n",
      "Send2Trash                   1.8.0\n",
      "setuptools                   65.5.0\n",
      "sip                          6.7.2\n",
      "six                          1.16.0\n",
      "smmap                        5.0.0\n",
      "soupsieve                    2.3.2.post1\n",
      "stack-data                   0.2.0\n",
      "stevedore                    5.0.0\n",
      "streamlit                    1.15.1\n",
      "sympy                        1.11.1\n",
      "tenacity                     8.1.0\n",
      "tensorboard                  2.11.2\n",
      "tensorboard-data-server      0.6.1\n",
      "tensorboard-plugin-wit       1.8.1\n",
      "tensorflow                   2.11.0\n",
      "tensorflow-estimator         2.11.0\n",
      "tensorflow-intel             2.11.0\n",
      "tensorflow-io-gcs-filesystem 0.31.0\n",
      "termcolor                    2.2.0\n",
      "terminado                    0.13.1\n",
      "testpath                     0.6.0\n",
      "threadpoolctl                3.1.0\n",
      "tokenize-rt                  5.0.0\n",
      "toml                         0.10.2\n",
      "tomli                        2.0.1\n",
      "toolz                        0.12.0\n",
      "tornado                      6.2\n",
      "traitlets                    5.1.1\n",
      "typing_extensions            4.3.0\n",
      "tzdata                       2022.6\n",
      "tzlocal                      4.2\n",
      "unicodedata2                 14.0.0\n",
      "urllib3                      1.26.12\n",
      "validators                   0.20.0\n",
      "watchdog                     2.1.9\n",
      "wcwidth                      0.2.5\n",
      "webencodings                 0.5.1\n",
      "websocket-client             1.5.1\n",
      "websockets                   10.4\n",
      "Werkzeug                     2.2.3\n",
      "wheel                        0.37.1\n",
      "widgetsnbextension           4.0.3\n",
      "wrapt                        1.15.0\n",
      "zipp                         3.10.0\n"
     ]
    }
   ],
   "source": [
    "pip list"
   ]
  },
  {
   "cell_type": "code",
   "execution_count": null,
   "metadata": {},
   "outputs": [],
   "source": []
  }
 ],
 "metadata": {
  "kernelspec": {
   "display_name": "Python 3 (ipykernel)",
   "language": "python",
   "name": "python3"
  },
  "language_info": {
   "codemirror_mode": {
    "name": "ipython",
    "version": 3
   },
   "file_extension": ".py",
   "mimetype": "text/x-python",
   "name": "python",
   "nbconvert_exporter": "python",
   "pygments_lexer": "ipython3",
   "version": "3.10.6"
  },
  "vscode": {
   "interpreter": {
    "hash": "66a612e4ee5d9343e2fda4842cd4535190425ea2d31d59f514fa54a2d33459fb"
   }
  }
 },
 "nbformat": 4,
 "nbformat_minor": 2
}
